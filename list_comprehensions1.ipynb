{
 "cells": [
  {
   "cell_type": "markdown",
   "metadata": {},
   "source": [
    "### Задание list comprehensions 1"
   ]
  },
  {
   "cell_type": "markdown",
   "metadata": {},
   "source": [
    "Эти задачи нужно решить в одну строчку при помощи list comprehensions"
   ]
  },
  {
   "cell_type": "code",
   "execution_count": 1,
   "metadata": {},
   "outputs": [],
   "source": [
    "def test(got, expected):\n",
    "    if got == expected:\n",
    "        prefix = ' OK '\n",
    "    else:\n",
    "        prefix = '  X '\n",
    "    print('%s Получено: %s | Ожидалось: %s' % \n",
    "          (prefix, repr(got), repr(expected)))"
   ]
  },
  {
   "cell_type": "markdown",
   "metadata": {},
   "source": [
    "**A. even** \n",
    "\n",
    "Напишите функцию, которая выбирает чётные числа из списка и возращает их в виде нового списка. \n",
    "Подсказка: 7 % 3 == 1"
   ]
  },
  {
   "cell_type": "code",
   "execution_count": 2,
   "metadata": {},
   "outputs": [],
   "source": [
    "def even(lst):\n",
    "    return [i for i in lst if i%2 == 0]"
   ]
  },
  {
   "cell_type": "code",
   "execution_count": 3,
   "metadata": {},
   "outputs": [
    {
     "name": "stdout",
     "output_type": "stream",
     "text": [
      " OK  Получено: [] | Ожидалось: []\n",
      " OK  Получено: [2] | Ожидалось: [2]\n",
      " OK  Получено: [0, 12, 12, -8, 1000] | Ожидалось: [0, 12, 12, -8, 1000]\n"
     ]
    }
   ],
   "source": [
    "test(even([]), [])\n",
    "test(even([1, 2, 3]), [2])\n",
    "test(even([0, 12, 5, 12, -8, 101, 1000]), [0, 12, 12, -8, 1000])"
   ]
  },
  {
   "cell_type": "markdown",
   "metadata": {},
   "source": [
    "**B. count** \n",
    "\n",
    "Реализуйте функцию `count(d, n)`, которая вычисляет, сколько раз цифра d  \n",
    " встречается в десятичной записи чисел от 1 до n (в частности, цифра 5 в числе 1575  \n",
    " встречается 2 раза). Например, для d=5, n=100 нужно вернуть 20.  \n",
    " Подсказки:  \n",
    " &nbsp; &nbsp;  • у строк есть метод count(), например `'abca'.count('a') == 2`  \n",
    " &nbsp; &nbsp; • есть встроенная функция `sum([1,2,3]) == 6`"
   ]
  },
  {
   "cell_type": "code",
   "execution_count": 4,
   "metadata": {},
   "outputs": [],
   "source": [
    "def count(d, n):\n",
    "    \n",
    "    return sum([str(i).count(d) for i in range(1, n +1)])"
   ]
  },
  {
   "cell_type": "code",
   "execution_count": 5,
   "metadata": {},
   "outputs": [
    {
     "name": "stdout",
     "output_type": "stream",
     "text": [
      " OK  Получено: 1 | Ожидалось: 1\n",
      " OK  Получено: 1 | Ожидалось: 1\n",
      " OK  Получено: 1 | Ожидалось: 1\n",
      " OK  Получено: 20 | Ожидалось: 20\n",
      " OK  Получено: 300 | Ожидалось: 300\n"
     ]
    }
   ],
   "source": [
    "test(count('5', 10), 1)\n",
    "test(count('0', 10), 1)\n",
    "test(count('9', 9), 1)\n",
    "test(count('5', 100), 20)\n",
    "test(count('5', 1000), 300)"
   ]
  },
  {
   "cell_type": "markdown",
   "metadata": {},
   "source": [
    " **C. palindromes** \n",
    " \n",
    " Палиндром - слово, которое одинаково читается слева направо и справа налево.  \n",
    " Реализуйте функциу `palindromes(a, b)`, которая вычисляет количество чисел-  \n",
    " палиндромов (например, 141) в заданном диапазоне $a \\leqslant x \\leqslant b$."
   ]
  },
  {
   "cell_type": "code",
   "execution_count": 6,
   "metadata": {},
   "outputs": [],
   "source": [
    "def palindromes(a, b):\n",
    "    return sum([1 for i in range(a,b + 1) if str(i) == str(i)[::-1]])"
   ]
  },
  {
   "cell_type": "code",
   "execution_count": 7,
   "metadata": {},
   "outputs": [
    {
     "name": "stdout",
     "output_type": "stream",
     "text": [
      " OK  Получено: 4 | Ожидалось: 4\n",
      " OK  Получено: 2 | Ожидалось: 2\n",
      " OK  Получено: 1 | Ожидалось: 1\n",
      " OK  Получено: 18 | Ожидалось: 18\n",
      " OK  Получено: 1998 | Ожидалось: 1998\n"
     ]
    }
   ],
   "source": [
    "test(palindromes(10, 50), 4)\n",
    "test(palindromes(11, 22), 2)\n",
    "test(palindromes(12, 22), 1)\n",
    "test(palindromes(1, 100), 18)\n",
    "test(palindromes(1, 1000000), 1998)"
   ]
  },
  {
   "cell_type": "markdown",
   "metadata": {},
   "source": [
    "**D. vandermonde** \n",
    "\n",
    "По заданному вектору $x_i$ cформируйте матрицу Вандермонда вида\n",
    "\n",
    "\\begin{bmatrix}\n",
    "1 & x_1 & x_1^2 & \\dots & x_1^{n-1}\\\\\n",
    "1 & x_2 & x_2^2 & \\dots & x_2^{n-1}\\\\\n",
    "1 & x_3 & x_3^2 & \\dots & x_3^{n-1}\\\\\n",
    "\\vdots & \\vdots & \\vdots & \\ddots &\\vdots \\\\\n",
    "1 & x_m & x_m^2 & \\dots & x_m^{n-1}\n",
    "\\end{bmatrix}"
   ]
  },
  {
   "cell_type": "markdown",
   "metadata": {},
   "source": [
    "Для отладки можно использовать вот такой визуализатор матриц:"
   ]
  },
  {
   "cell_type": "code",
   "execution_count": 8,
   "metadata": {},
   "outputs": [
    {
     "ename": "ModuleNotFoundError",
     "evalue": "No module named 'sympy'",
     "output_type": "error",
     "traceback": [
      "\u001b[0;31m---------------------------------------------------------------------------\u001b[0m",
      "\u001b[0;31mModuleNotFoundError\u001b[0m                       Traceback (most recent call last)",
      "\u001b[0;32m/tmp/ipykernel_9118/1426040169.py\u001b[0m in \u001b[0;36m<module>\u001b[0;34m\u001b[0m\n\u001b[1;32m      1\u001b[0m \u001b[0;32mfrom\u001b[0m \u001b[0mIPython\u001b[0m\u001b[0;34m.\u001b[0m\u001b[0mdisplay\u001b[0m \u001b[0;32mimport\u001b[0m \u001b[0mdisplay\u001b[0m\u001b[0;34m,\u001b[0m \u001b[0mMath\u001b[0m\u001b[0;34m\u001b[0m\u001b[0;34m\u001b[0m\u001b[0m\n\u001b[0;32m----> 2\u001b[0;31m \u001b[0;32mimport\u001b[0m \u001b[0mre\u001b[0m\u001b[0;34m,\u001b[0m \u001b[0msympy\u001b[0m\u001b[0;34m\u001b[0m\u001b[0;34m\u001b[0m\u001b[0m\n\u001b[0m\u001b[1;32m      3\u001b[0m \u001b[0;32mdef\u001b[0m \u001b[0mvis\u001b[0m\u001b[0;34m(\u001b[0m\u001b[0;34m*\u001b[0m\u001b[0margs\u001b[0m\u001b[0;34m)\u001b[0m\u001b[0;34m:\u001b[0m\u001b[0;34m\u001b[0m\u001b[0;34m\u001b[0m\u001b[0m\n\u001b[1;32m      4\u001b[0m     \u001b[0;32mdef\u001b[0m \u001b[0m_\u001b[0m\u001b[0;34m(\u001b[0m\u001b[0mx\u001b[0m\u001b[0;34m)\u001b[0m\u001b[0;34m:\u001b[0m\u001b[0;34m\u001b[0m\u001b[0;34m\u001b[0m\u001b[0m\n\u001b[1;32m      5\u001b[0m         \u001b[0;32mreturn\u001b[0m \u001b[0mre\u001b[0m\u001b[0;34m.\u001b[0m\u001b[0msub\u001b[0m\u001b[0;34m(\u001b[0m\u001b[0;34mr'\\.0\\b'\u001b[0m\u001b[0;34m,\u001b[0m \u001b[0;34m''\u001b[0m\u001b[0;34m,\u001b[0m \u001b[0msympy\u001b[0m\u001b[0;34m.\u001b[0m\u001b[0mlatex\u001b[0m\u001b[0;34m(\u001b[0m\u001b[0msympy\u001b[0m\u001b[0;34m.\u001b[0m\u001b[0mMatrix\u001b[0m\u001b[0;34m(\u001b[0m\u001b[0mx\u001b[0m\u001b[0;34m)\u001b[0m\u001b[0;34m)\u001b[0m\u001b[0;34m)\u001b[0m\u001b[0;34m\u001b[0m\u001b[0;34m\u001b[0m\u001b[0m\n",
      "\u001b[0;31mModuleNotFoundError\u001b[0m: No module named 'sympy'"
     ]
    }
   ],
   "source": [
    "from IPython.display import display, Math\n",
    "import re, sympy\n",
    "def vis(*args):\n",
    "    def _(x):\n",
    "        return re.sub(r'\\.0\\b', '', sympy.latex(sympy.Matrix(x)))\n",
    "    display(Math(' '.join(('\\cdot' if x=='*' else x) \n",
    "                          if isinstance(x, str) else _(x) for x in args)))"
   ]
  },
  {
   "cell_type": "code",
   "execution_count": null,
   "metadata": {},
   "outputs": [],
   "source": [
    "vis(vandermonde([2,3,4,5]))"
   ]
  },
  {
   "cell_type": "code",
   "execution_count": 9,
   "metadata": {},
   "outputs": [
    {
     "name": "stdout",
     "output_type": "stream",
     "text": [
      " OK  Получено: [] | Ожидалось: []\n",
      " OK  Получено: [[1]] | Ожидалось: [[1]]\n",
      " OK  Получено: [[1, 2, 4, 8], [1, 3, 9, 27], [1, 4, 16, 64], [1, 5, 25, 125]] | Ожидалось: [[1, 2, 4, 8], [1, 3, 9, 27], [1, 4, 16, 64], [1, 5, 25, 125]]\n"
     ]
    }
   ],
   "source": [
    "def vandermonde(x):\n",
    "                      \n",
    "    return [[x [i]**j for j in range(0,len(x))] for i in range(len(x))]\n",
    "\n",
    "test(vandermonde([]), [])\n",
    "test(vandermonde([1]), [[1]])\n",
    "test(vandermonde([2,3,4,5]), [[1, 2, 4, 8], [1, 3, 9, 27], [1, 4, 16, 64], [1, 5, 25, 125]])"
   ]
  }
 ],
 "metadata": {
  "kernelspec": {
   "display_name": "Python 3 (ipykernel)",
   "language": "python",
   "name": "python3"
  },
  "language_info": {
   "codemirror_mode": {
    "name": "ipython",
    "version": 3
   },
   "file_extension": ".py",
   "mimetype": "text/x-python",
   "name": "python",
   "nbconvert_exporter": "python",
   "pygments_lexer": "ipython3",
   "version": "3.8.10"
  },
  "toc": {
   "base_numbering": 1,
   "nav_menu": {},
   "number_sections": true,
   "sideBar": true,
   "skip_h1_title": false,
   "title_cell": "Table of Contents",
   "title_sidebar": "Contents",
   "toc_cell": false,
   "toc_position": {},
   "toc_section_display": true,
   "toc_window_display": false
  },
  "varInspector": {
   "cols": {
    "lenName": 16,
    "lenType": 16,
    "lenVar": 40
   },
   "kernels_config": {
    "python": {
     "delete_cmd_postfix": "",
     "delete_cmd_prefix": "del ",
     "library": "var_list.py",
     "varRefreshCmd": "print(var_dic_list())"
    },
    "r": {
     "delete_cmd_postfix": ") ",
     "delete_cmd_prefix": "rm(",
     "library": "var_list.r",
     "varRefreshCmd": "cat(var_dic_list()) "
    }
   },
   "types_to_exclude": [
    "module",
    "function",
    "builtin_function_or_method",
    "instance",
    "_Feature"
   ],
   "window_display": false
  }
 },
 "nbformat": 4,
 "nbformat_minor": 2
}
