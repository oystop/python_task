{
 "cells": [
  {
   "cell_type": "markdown",
   "metadata": {},
   "source": [
    "### Задание iterators"
   ]
  },
  {
   "cell_type": "markdown",
   "metadata": {},
   "source": [
    "У каждой из этих задач есть несколько решений. Можно их решить через:  \n",
    "– generator expressions (=list compherensions с круглыми скобками),  \n",
    "– цикл for,  \n",
    "– helper-функции из itertools и другие функций из [таблицы по итераторам](https://docs.google.com/spreadsheets/d/1clNhPMm4Bs-dVgqgVkK54VY4db0miVwe3kYy6fn5k6M/edit#gid=0)  \n",
    "– функции-генераторы с yield   \n",
    "– пользовательские классы  \n",
    "\n",
    "Реализуйте любое из них, которое кажется вам наиболее подходящим в данном случае. \n",
    "\n",
    "Главное здесь – ленивые вычисления, то есть отсутствие промежуточных массивов."
   ]
  },
  {
   "cell_type": "code",
   "execution_count": 1,
   "metadata": {},
   "outputs": [],
   "source": [
    "from itertools import *"
   ]
  },
  {
   "cell_type": "code",
   "execution_count": 2,
   "metadata": {},
   "outputs": [],
   "source": [
    "def test(got, expected):\n",
    "    print(' OK ' if got == expected else '  X ' + \n",
    "          f' Получено: {got} | Ожидалось: {expected}')"
   ]
  },
  {
   "cell_type": "code",
   "execution_count": 3,
   "metadata": {},
   "outputs": [
    {
     "name": "stdout",
     "output_type": "stream",
     "text": [
      " OK \n",
      " OK \n",
      " OK \n"
     ]
    }
   ],
   "source": [
    "def first_true(iterable, default=None):\n",
    "    \"\"\"Возвращает первый элемент, bool() от которого равен True\n",
    "    Если таких нет, возвращает default\"\"\"\n",
    "    try:\n",
    "        return next(i for i in iterable if bool(i) == True)\n",
    "    except StopIteration:\n",
    "        return default\n",
    "    \n",
    "test(first_true(['', '', 'a', 'b']), 'a')\n",
    "test(first_true([0, 0, 0, 10, 7]), 10)\n",
    "test(first_true([0, 0, 0], -1), -1)"
   ]
  },
  {
   "cell_type": "code",
   "execution_count": 4,
   "metadata": {},
   "outputs": [
    {
     "name": "stdout",
     "output_type": "stream",
     "text": [
      " OK \n",
      " OK \n",
      " OK \n"
     ]
    }
   ],
   "source": [
    "def same(iterable1, iterable2, fillvalue=None):\n",
    "    \"\"\"Проверяет, равны ли попарно значения из iterable1 и iterable2.\n",
    "    Если один из них короче, дополняет его значениями fillvalue\"\"\"\n",
    "\n",
    "        \n",
    "    return all( i == j for i,j in zip_longest(iterable1, iterable2, fillvalue = fillvalue))\n",
    "        \n",
    "\n",
    "test(same('abc', 'abc'), True)\n",
    "test(same('abc', 'abcd'), False)\n",
    "test(same('abc', 'abcd', fillvalue='d'), True)"
   ]
  },
  {
   "cell_type": "code",
   "execution_count": 5,
   "metadata": {},
   "outputs": [
    {
     "name": "stdout",
     "output_type": "stream",
     "text": [
      " OK \n",
      " OK \n",
      " OK \n",
      " OK \n"
     ]
    }
   ],
   "source": [
    "def ilen(iterable):\n",
    "    \"Возвращает длину итератора. Не работает для бесконечных итераторов (зависает).\"\n",
    "    return sum(1 for i in iterable)\n",
    "   \n",
    "\n",
    "test(ilen(''), 0)\n",
    "test(ilen('abc'), 3)\n",
    "test(ilen(range(int(1e6))), int(1e6))\n",
    "test(ilen([None, None]), 2)"
   ]
  },
  {
   "cell_type": "code",
   "execution_count": 6,
   "metadata": {},
   "outputs": [
    {
     "name": "stdout",
     "output_type": "stream",
     "text": [
      " OK \n",
      " OK \n"
     ]
    }
   ],
   "source": [
    "def long_words(iterable, n=4):\n",
    "    \"Возвращает (в виде итератора) слова длиной не менее n символов\"\n",
    "    return (i for i in iterable if len(i) >= 4)\n",
    "\n",
    "test(list(long_words(\n",
    "        'Карл клал лук на ларь Клара крала лук с ларя'.split())),\n",
    "        ['Карл', 'клал', 'ларь', 'Клара', 'крала', 'ларя'])\n",
    "test(list(islice(long_words(str(i) for i in count()), 3)), ['1000', '1001', '1002'])"
   ]
  },
  {
   "cell_type": "code",
   "execution_count": 7,
   "metadata": {},
   "outputs": [
    {
     "name": "stdout",
     "output_type": "stream",
     "text": [
      " OK \n",
      " OK \n",
      " OK \n"
     ]
    }
   ],
   "source": [
    "def dotproduct(vec1, vec2):\n",
    "    \"Вычисляет склярное произведение двух векторов.\"\n",
    "    if len(vec1) == 0: #Думаем, что вектора всегда будутоднаковой размерности и не делаем проверку этого факта\n",
    "        return 0\n",
    "    return sum(i*j for i, j in zip(vec1,vec2))\n",
    "    pass\n",
    "\n",
    "test(dotproduct([], []), 0)\n",
    "test(dotproduct([1, 2, 3], [2, 3, 4]), 20)\n",
    "test(dotproduct(list(range(1000000)), list(range(1000000))), 333332833333500000)"
   ]
  },
  {
   "cell_type": "code",
   "execution_count": 8,
   "metadata": {},
   "outputs": [
    {
     "name": "stdout",
     "output_type": "stream",
     "text": [
      " OK \n",
      " OK \n",
      " OK \n"
     ]
    }
   ],
   "source": [
    "def take(iterable, n, fillvalue=None):\n",
    "    \"Возвращает первые n элементов в виде списка. Если элементов меньше n,\"\n",
    "    \"заполняет оставшееся место значениями fillvalue.\"\n",
    "    # Подсказка: здесь может пригодиться необязательный второй аргумент\n",
    "    # функции next(it, default)\n",
    "    itr = iter(iterable)\n",
    "    return [next(itr, fillvalue) for i in range(n)]\n",
    "\n",
    "test(take([2, 4, 6, 8], 3), [2, 4, 6])\n",
    "test(take('ja', 4, 'z'), list('jazz'))\n",
    "test(take(count(), 3), [0, 1, 2])"
   ]
  },
  {
   "cell_type": "code",
   "execution_count": 9,
   "metadata": {},
   "outputs": [
    {
     "name": "stdout",
     "output_type": "stream",
     "text": [
      " OK \n",
      " OK \n"
     ]
    }
   ],
   "source": [
    "def tabulate(function, start=0):\n",
    "    \"Возвращает function(0), function(1), ...\"\n",
    "    return (function(i) for i in count(start))\n",
    "\n",
    "from math import pi, isclose\n",
    "test(take(tabulate(lambda x: x**2, 5), 3), [25, 36, 49])\n",
    "test(isclose(sum(take(tabulate(lambda x: 1/x**2, 1), 10**5)),\n",
    "             pi**2/6,\n",
    "             rel_tol=10**-5), # проверяет равенство с точностью \"до 5-го знака после запятой\"\n",
    "     True)   "
   ]
  },
  {
   "cell_type": "code",
   "execution_count": 10,
   "metadata": {},
   "outputs": [
    {
     "name": "stdout",
     "output_type": "stream",
     "text": [
      " OK \n",
      " OK \n",
      " OK \n",
      " OK \n"
     ]
    }
   ],
   "source": [
    "\n",
    "def chunked(iterable, n, fillvalue=None):\n",
    "    \"Собирает элементы в группы (tuple'ы) по n элементов. Если в последней\"\n",
    "    \"группе недостача, заполняет её при помощи fillvalue. Возвращает итератор.\"\n",
    "    iters = [iter(iterable)] * n\n",
    "    return zip_longest(*iters, fillvalue=fillvalue)\n",
    "        \n",
    "\n",
    "test(list(chunked('abcd', 2)),\n",
    "     [('a','b'), ('c','d')])\n",
    "test(list(chunked('abcdefg', 3, 'x')),\n",
    "     [('a','b','c'), ('d','e','f'), ('g','x','x')])\n",
    "test(list(chunked(iter('abcde'), 2)),\n",
    "     [('a','b'), ('c','d'), ('e', None)])\n",
    "test(take(chunked(count(), 3), 2), \n",
    "     [(0, 1, 2), (3, 4, 5)])"
   ]
  }
 ],
 "metadata": {
  "kernelspec": {
   "display_name": "Python 3 (ipykernel)",
   "language": "python",
   "name": "python3"
  },
  "language_info": {
   "codemirror_mode": {
    "name": "ipython",
    "version": 3
   },
   "file_extension": ".py",
   "mimetype": "text/x-python",
   "name": "python",
   "nbconvert_exporter": "python",
   "pygments_lexer": "ipython3",
   "version": "3.8.10"
  },
  "toc": {
   "base_numbering": 1,
   "nav_menu": {},
   "number_sections": true,
   "sideBar": true,
   "skip_h1_title": false,
   "title_cell": "Table of Contents",
   "title_sidebar": "Contents",
   "toc_cell": false,
   "toc_position": {},
   "toc_section_display": true,
   "toc_window_display": false
  },
  "varInspector": {
   "cols": {
    "lenName": 16,
    "lenType": 16,
    "lenVar": 40
   },
   "kernels_config": {
    "python": {
     "delete_cmd_postfix": "",
     "delete_cmd_prefix": "del ",
     "library": "var_list.py",
     "varRefreshCmd": "print(var_dic_list())"
    },
    "r": {
     "delete_cmd_postfix": ") ",
     "delete_cmd_prefix": "rm(",
     "library": "var_list.r",
     "varRefreshCmd": "cat(var_dic_list()) "
    }
   },
   "types_to_exclude": [
    "module",
    "function",
    "builtin_function_or_method",
    "instance",
    "_Feature"
   ],
   "window_display": false
  }
 },
 "nbformat": 4,
 "nbformat_minor": 2
}
