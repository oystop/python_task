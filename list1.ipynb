{
 "cells": [
  {
   "cell_type": "markdown",
   "metadata": {},
   "source": [
    "## Списки 1\n",
    " \n",
    "Функция `test` используется далее для сравнения того, что возвращает функция, с  \n",
    "тем, что она должна возвращать. \n",
    "\n",
    "Кликните на следующую ячейку и нажмите Shift-Enter."
   ]
  },
  {
   "cell_type": "code",
   "execution_count": 1,
   "metadata": {},
   "outputs": [],
   "source": [
    "def test(got, expected):\n",
    "    if got == expected:\n",
    "        prefix = ' OK '\n",
    "    else:\n",
    "        prefix = '  X '\n",
    "    print('%s Получено: %s | Ожидалось: %s' % \n",
    "          (prefix, repr(got), repr(expected)))   "
   ]
  },
  {
   "cell_type": "markdown",
   "metadata": {},
   "source": [
    "<div style=\"max-width:630px;margin-top:8px\">Заполните код приведенных ниже функций. Каждая ячейка уже настроена для вызова функции с несколькими различными параметрами и выводит 'OK' в случае, если вызов функции корректен.</div>\n",
    "\n",
    "<div style=\"max-width:630px;margin-top:8px\">Изначально код каждой функции содержит только 'return' и является просто заготовкой для вашего кода.</div>"
   ]
  },
  {
   "cell_type": "code",
   "execution_count": 2,
   "metadata": {},
   "outputs": [
    {
     "name": "stdout",
     "output_type": "stream",
     "text": [
      " OK  Получено: 3 | Ожидалось: 3\n",
      " OK  Получено: 2 | Ожидалось: 2\n",
      " OK  Получено: 1 | Ожидалось: 1\n",
      " OK  Получено: 1 | Ожидалось: 1\n",
      " OK  Получено: 1 | Ожидалось: 1\n"
     ]
    }
   ],
   "source": [
    "# A. match_ends\n",
    "# Функция принимает на вход список строк, возвращает количество\n",
    "# строк, у которых длина больше или равна двум, а первый и последний\n",
    "# символы совпадают.\n",
    "# Замечание: в питоне нет оператора ++, но есть +=\n",
    "def match_ends(words):\n",
    "    count = 0\n",
    "    for word in words:\n",
    "            if(len(word) >= 2 and word[0] == word[-1]):\n",
    "                count += 1\n",
    "                \n",
    "    return count\n",
    "\n",
    "test(match_ends(['aba', 'xyz', 'aa', 'x', 'bbb']), 3)\n",
    "test(match_ends(['', 'x', 'xy', 'xyx', 'xx']), 2)\n",
    "test(match_ends(['aaa', 'be', 'abc', 'hello']), 1)\n",
    "test(match_ends(['абв', 'арра', 'ок', '']), 1)\n",
    "test(match_ends(['中文', '中文中', '中文中文', '中']), 1)"
   ]
  },
  {
   "cell_type": "code",
   "execution_count": 6,
   "metadata": {},
   "outputs": [
    {
     "name": "stdout",
     "output_type": "stream",
     "text": [
      " OK  Получено: ['xaa', 'xzz', 'axx', 'bbb', 'ccc'] | Ожидалось: ['xaa', 'xzz', 'axx', 'bbb', 'ccc']\n",
      " OK  Получено: ['xaa', 'xcc', 'aaa', 'bbb', 'ccc'] | Ожидалось: ['xaa', 'xcc', 'aaa', 'bbb', 'ccc']\n",
      " OK  Получено: ['xanadu', 'xyz', 'aardvark', 'apple', 'mix'] | Ожидалось: ['xanadu', 'xyz', 'aardvark', 'apple', 'mix']\n",
      " OK  Получено: ['xaa', 'xab', 'xzz', 'axx', 'bbb', 'ccc'] | Ожидалось: ['xaa', 'xab', 'xzz', 'axx', 'bbb', 'ccc']\n"
     ]
    }
   ],
   "source": [
    "# B. front_x\n",
    "# Функция принимает на вход список строк, возвращает его в отсортированном\n",
    "# порядке, но строки, начинающиеся с \"x\" должны идти в начале:\n",
    "# e.g. ['mix', 'xyz', 'apple', 'xanadu', 'aardvark'] yields\n",
    "# ['xanadu', 'xyz', 'aardvark', 'apple', 'mix']\n",
    "\n",
    "def key_func(s):\n",
    "    if s[0] == 'x':\n",
    "        return ' ' + s[1:]\n",
    "    \n",
    "    return s\n",
    "\n",
    "\n",
    "def front_x(words):\n",
    "    return sorted(words, key = key_func)\n",
    "\n",
    "test(front_x(['bbb', 'ccc', 'axx', 'xzz', 'xaa']),\n",
    "     ['xaa', 'xzz', 'axx', 'bbb', 'ccc'])\n",
    "test(front_x(['ccc', 'bbb', 'aaa', 'xcc', 'xaa']),\n",
    "     ['xaa', 'xcc', 'aaa', 'bbb', 'ccc'])\n",
    "test(front_x(['mix', 'xyz', 'apple', 'xanadu', 'aardvark']),\n",
    "     ['xanadu', 'xyz', 'aardvark', 'apple', 'mix'])\n",
    "test(front_x(['bbb', 'ccc', 'axx', 'xzz', 'xab', 'xaa']),\n",
    "['xaa', 'xab', 'xzz', 'axx', 'bbb', 'ccc']) \n"
   ]
  },
  {
   "cell_type": "code",
   "execution_count": 4,
   "metadata": {},
   "outputs": [
    {
     "name": "stdout",
     "output_type": "stream",
     "text": [
      " OK  Получено: [(2, 1), (3, 2), (1, 3)] | Ожидалось: [(2, 1), (3, 2), (1, 3)]\n",
      " OK  Получено: [(3, 1), (1, 2), (2, 3)] | Ожидалось: [(3, 1), (1, 2), (2, 3)]\n",
      " OK  Получено: [(2,), (1, 3), (3, 4, 5), (1, 7)] | Ожидалось: [(2,), (1, 3), (3, 4, 5), (1, 7)]\n"
     ]
    }
   ],
   "source": [
    "# C. sort_last\n",
    "# На входе список (или кортеж) непустых кортежей, на выходе список, \n",
    "# отсортированный в порядке увеличения последнего элемента кортежа.\n",
    "# Например, \n",
    "# [(1, 3), (1, 7), (3, 4, 5), (2, 2)] ->\n",
    "# [(2, 2), (1, 3), (3, 4, 5), (1, 7)]\n",
    "# Подсказка: передайте в качестве аргумента key= функцию, извлекающую\n",
    "# последний элемент из каждого кортежа.\n",
    "def last_element(s):\n",
    "    return s[-1]\n",
    "def sort_last(tuples):\n",
    "    \n",
    "    return sorted(tuples, key = last_element)\n",
    "\n",
    "test(sort_last([(1, 3), (3, 2), (2, 1)]),\n",
    "     [(2, 1), (3, 2), (1, 3)])\n",
    "test(sort_last([(2, 3), (1, 2), (3, 1)]),\n",
    "     [(3, 1), (1, 2), (2, 3)])\n",
    "test(sort_last(((1, 7), (1, 3), (3, 4, 5), (2,))),\n",
    "     [(2,), (1, 3), (3, 4, 5), (1, 7)])"
   ]
  },
  {
   "cell_type": "code",
   "execution_count": 5,
   "metadata": {},
   "outputs": [
    {
     "name": "stdout",
     "output_type": "stream",
     "text": [
      " OK  Получено: [(2, 1), (3, 2), (1, 3)] | Ожидалось: [(2, 1), (3, 2), (1, 3)]\n",
      " OK  Получено: [(2, 1), (3, 1), (1, 2)] | Ожидалось: [(2, 1), (3, 1), (1, 2)]\n",
      " OK  Получено: [(2,), (4, 5), (3, 4, 5), (1, 7)] | Ожидалось: [(2,), (4, 5), (3, 4, 5), (1, 7)]\n",
      " OK  Получено: ['a', '1a', '11a', '21a', '2a', 'b'] | Ожидалось: ['a', '1a', '11a', '21a', '2a', 'b']\n",
      " OK  Получено: ['dog', 'a dog', '10cat', '1cat', '2cat'] | Ожидалось: ['dog', 'a dog', '10cat', '1cat', '2cat']\n"
     ]
    }
   ],
   "source": [
    "# D. better_sort_last\n",
    "# Отсортируйте записи так, чтобы при совпадающем последнем элементе\n",
    "# сортировка проводилась по предпоследнему, при совпадающих предпоследних –\n",
    "# по предпредпоследнему и так далее.\n",
    "def key_func(s):\n",
    "    s = s[::-1]\n",
    "    return s\n",
    "  \n",
    "    \n",
    "def better_sort_last(tuples):\n",
    "    \n",
    "    return sorted(tuples, key = key_func)\n",
    "\n",
    "test(better_sort_last([(1, 3), (3, 2), (2, 1)]),\n",
    "     [(2, 1), (3, 2), (1, 3)])\n",
    "test(better_sort_last([(2, 1), (1, 2), (3, 1)]),\n",
    "     [(2, 1), (3, 1), (1, 2)])\n",
    "test(better_sort_last([(1, 7), (4, 5), (3, 4, 5), (2,)]),\n",
    "     [(2,), (4, 5), (3, 4, 5), (1, 7)])\n",
    "test(better_sort_last('a b 1a 2a 11a 21a'.split()),\n",
    "     'a 1a 11a 21a 2a b'.split())\n",
    "test(better_sort_last(('1cat', '2cat', '10cat', 'dog', 'a dog')),\n",
    "     ['dog', 'a dog', '10cat', '1cat', '2cat'])\n"
   ]
  },
  {
   "cell_type": "markdown",
   "metadata": {},
   "source": [
    "© 2010 Google Inc.  \n",
    "Licensed under the Apache License, Version 2.0  \n",
    "http://www.apache.org/licenses/LICENSE-2.0  \n",
    "Google's Python Class  \n",
    "http://code.google.com/edu/languages/google-python-class/  \n",
    "Перевод, дополнения Максимов Л.В. © 2016-2018"
   ]
  },
  {
   "cell_type": "code",
   "execution_count": null,
   "metadata": {},
   "outputs": [],
   "source": []
  }
 ],
 "metadata": {
  "kernelspec": {
   "display_name": "Python 3 (ipykernel)",
   "language": "python",
   "name": "python3"
  },
  "language_info": {
   "codemirror_mode": {
    "name": "ipython",
    "version": 3
   },
   "file_extension": ".py",
   "mimetype": "text/x-python",
   "name": "python",
   "nbconvert_exporter": "python",
   "pygments_lexer": "ipython3",
   "version": "3.8.10"
  },
  "toc": {
   "base_numbering": 1,
   "nav_menu": {},
   "number_sections": true,
   "sideBar": true,
   "skip_h1_title": false,
   "title_cell": "Table of Contents",
   "title_sidebar": "Contents",
   "toc_cell": false,
   "toc_position": {},
   "toc_section_display": true,
   "toc_window_display": false
  },
  "varInspector": {
   "cols": {
    "lenName": 16,
    "lenType": 16,
    "lenVar": 40
   },
   "kernels_config": {
    "python": {
     "delete_cmd_postfix": "",
     "delete_cmd_prefix": "del ",
     "library": "var_list.py",
     "varRefreshCmd": "print(var_dic_list())"
    },
    "r": {
     "delete_cmd_postfix": ") ",
     "delete_cmd_prefix": "rm(",
     "library": "var_list.r",
     "varRefreshCmd": "cat(var_dic_list()) "
    }
   },
   "types_to_exclude": [
    "module",
    "function",
    "builtin_function_or_method",
    "instance",
    "_Feature"
   ],
   "window_display": false
  }
 },
 "nbformat": 4,
 "nbformat_minor": 2
}
