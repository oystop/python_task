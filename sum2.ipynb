{
 "cells": [
  {
   "cell_type": "markdown",
   "metadata": {},
   "source": [
    "### Задание sum2"
   ]
  },
  {
   "cell_type": "markdown",
   "metadata": {},
   "source": [
    "Дан отсортированный массив $a$ из $n$ целых чисел. Найдите два элемента, сумма которых равнялась бы 0.  \n",
    "То есть найти такие $i≠j$, что $a_i+a_j = 0$.  \n",
    "Можно считать, что все элементы $a_i$ различны: $∀i,j \\,\\{i≠j => a_i ≠ a_j\\}$, а искомая\n",
    "пара  \n",
    "чисел только одна (либо ни одной)."
   ]
  },
  {
   "cell_type": "markdown",
   "metadata": {},
   "source": [
    "Очевидное решение выполняется за $O(n^2)$:"
   ]
  },
  {
   "cell_type": "code",
   "execution_count": 1,
   "metadata": {},
   "outputs": [],
   "source": [
    "def sum2(a):\n",
    "    n = len(a)\n",
    "    for i in range(n):\n",
    "        for j in range(i+1, n):\n",
    "            if a[i]+a[j] == 0:\n",
    "                return [i, j]\n",
    "    return []"
   ]
  },
  {
   "cell_type": "markdown",
   "metadata": {},
   "source": [
    "Найдите решение, которое выполнялось бы за $O(n)$."
   ]
  },
  {
   "cell_type": "markdown",
   "metadata": {},
   "source": [
    "Тестовая функция"
   ]
  },
  {
   "cell_type": "code",
   "execution_count": 2,
   "metadata": {},
   "outputs": [],
   "source": [
    "def test(got, expected):\n",
    "    if got == expected:\n",
    "        prefix = ' OK '\n",
    "    else:\n",
    "        prefix = '  X '\n",
    "    print('%s Получено: %s | Ожидалось: %s' % \n",
    "          (prefix, repr(got), repr(expected)))"
   ]
  },
  {
   "cell_type": "code",
   "execution_count": 3,
   "metadata": {},
   "outputs": [],
   "source": [
    "def faster_sum2(a):\n",
    "    n = len(a)\n",
    "    if n < 2:\n",
    "        return [] \n",
    "    i = 0\n",
    "    j = 0\n",
    "    while i < n - 1 - j and not (a[i] > 0 or a[n-1-j] < 0):\n",
    "        if a[i] + a[n-1-j] == 0:\n",
    "            return [i, n - 1 - j]\n",
    "        else:\n",
    "            if abs(a[i]) < abs(a[n-1-j]):\n",
    "                j += 1\n",
    "            else:\n",
    "                i += 1\n",
    "                          \n",
    "\n",
    "    return []"
   ]
  },
  {
   "cell_type": "code",
   "execution_count": 4,
   "metadata": {},
   "outputs": [
    {
     "name": "stdout",
     "output_type": "stream",
     "text": [
      " OK  Получено: [] | Ожидалось: []\n",
      " OK  Получено: [0, 2] | Ожидалось: [0, 2]\n",
      " OK  Получено: [1, 3] | Ожидалось: [1, 3]\n"
     ]
    }
   ],
   "source": [
    "test(sum2([1, 2, 3]), [])\n",
    "test(sum2([-1, 0, 1]), [0, 2])\n",
    "test(sum2([-4, -2, 1, 2, 3, 5]), [1, 3])"
   ]
  },
  {
   "cell_type": "code",
   "execution_count": 5,
   "metadata": {},
   "outputs": [
    {
     "name": "stdout",
     "output_type": "stream",
     "text": [
      " OK  Получено: [] | Ожидалось: []\n",
      " OK  Получено: [0, 2] | Ожидалось: [0, 2]\n",
      " OK  Получено: [1, 3] | Ожидалось: [1, 3]\n",
      " OK  Получено: [2, 3] | Ожидалось: [2, 3]\n",
      " OK  Получено: [] | Ожидалось: []\n",
      " OK  Получено: [] | Ожидалось: []\n"
     ]
    }
   ],
   "source": [
    "test(faster_sum2([1, 2, 3]), [])\n",
    "test(faster_sum2([-1, 0, 1]), [0, 2])\n",
    "\n",
    "test(faster_sum2([-4, -2, 1, 2, 3, 5]), [1, 3])\n",
    "test(faster_sum2([-3, -2, -1, 1]), [2,3])\n",
    "test(faster_sum2([0]), [])\n",
    "\n",
    "test(faster_sum2([-3, -1]), [])\n",
    "\n"
   ]
  },
  {
   "cell_type": "code",
   "execution_count": null,
   "metadata": {},
   "outputs": [],
   "source": []
  },
  {
   "cell_type": "code",
   "execution_count": null,
   "metadata": {},
   "outputs": [],
   "source": []
  }
 ],
 "metadata": {
  "kernelspec": {
   "display_name": "Python 3 (ipykernel)",
   "language": "python",
   "name": "python3"
  },
  "language_info": {
   "codemirror_mode": {
    "name": "ipython",
    "version": 3
   },
   "file_extension": ".py",
   "mimetype": "text/x-python",
   "name": "python",
   "nbconvert_exporter": "python",
   "pygments_lexer": "ipython3",
   "version": "3.8.10"
  },
  "toc": {
   "base_numbering": 1,
   "nav_menu": {},
   "number_sections": true,
   "sideBar": true,
   "skip_h1_title": false,
   "title_cell": "Table of Contents",
   "title_sidebar": "Contents",
   "toc_cell": false,
   "toc_position": {},
   "toc_section_display": true,
   "toc_window_display": false
  },
  "varInspector": {
   "cols": {
    "lenName": 16,
    "lenType": 16,
    "lenVar": 40
   },
   "kernels_config": {
    "python": {
     "delete_cmd_postfix": "",
     "delete_cmd_prefix": "del ",
     "library": "var_list.py",
     "varRefreshCmd": "print(var_dic_list())"
    },
    "r": {
     "delete_cmd_postfix": ") ",
     "delete_cmd_prefix": "rm(",
     "library": "var_list.r",
     "varRefreshCmd": "cat(var_dic_list()) "
    }
   },
   "types_to_exclude": [
    "module",
    "function",
    "builtin_function_or_method",
    "instance",
    "_Feature"
   ],
   "window_display": false
  }
 },
 "nbformat": 4,
 "nbformat_minor": 2
}
