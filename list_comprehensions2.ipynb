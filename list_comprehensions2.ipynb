{
 "cells": [
  {
   "cell_type": "markdown",
   "metadata": {},
   "source": [
    "### Задание list comprehensions 2"
   ]
  },
  {
   "cell_type": "markdown",
   "metadata": {},
   "source": [
    "Эти задачи нужно решить в одну строчку при помощи list comprehensions"
   ]
  },
  {
   "cell_type": "code",
   "execution_count": 1,
   "metadata": {},
   "outputs": [],
   "source": [
    "def test(got, expected):\n",
    "    if got == expected:\n",
    "        prefix = ' OK '\n",
    "    else:\n",
    "        prefix = '  X '\n",
    "    print('%s Получено: %s | Ожидалось: %s' % \n",
    "          (prefix, repr(got), repr(expected)))"
   ]
  },
  {
   "cell_type": "markdown",
   "metadata": {},
   "source": [
    "**E. Circulant**\n",
    "\n",
    "По заданному вектору $c_i$ сформируйте матрицу-циркулянт вида"
   ]
  },
  {
   "cell_type": "markdown",
   "metadata": {},
   "source": [
    "\\begin{align}C = \n",
    "\\begin{pmatrix}\n",
    "c_1 & c_2 & \\cdots & c_n \\\\\n",
    "c_n & c_1 & \\cdots & c_{n-1} \\\\\n",
    "\\vdots & \\vdots & \\ddots & \\vdots \\\\\n",
    "c_2 & c_3 & \\cdots & c_1 \\\\\n",
    "\\end{pmatrix}\n",
    "\\end{align}"
   ]
  },
  {
   "cell_type": "markdown",
   "metadata": {},
   "source": [
    "*Подсказка: есть простая математическая формула – одна для всех элементов.*"
   ]
  },
  {
   "cell_type": "code",
   "execution_count": 2,
   "metadata": {},
   "outputs": [
    {
     "name": "stdout",
     "output_type": "stream",
     "text": [
      " OK  Получено: [] | Ожидалось: []\n",
      " OK  Получено: [[1]] | Ожидалось: [[1]]\n",
      " OK  Получено: [[1, 2], [2, 1]] | Ожидалось: [[1, 2], [2, 1]]\n",
      " OK  Получено: [[1, 2, 3], [3, 1, 2], [2, 3, 1]] | Ожидалось: [[1, 2, 3], [3, 1, 2], [2, 3, 1]]\n"
     ]
    }
   ],
   "source": [
    "def circulant(c):\n",
    "    \n",
    "    return [[c[j - i +1] for j in range(len(c))] for i in range(1,len(c)+1)]\n",
    "\n",
    "test(circulant([]), [])\n",
    "test(circulant([1]), [[1]])\n",
    "test(circulant([1,2]), [[1, 2], \n",
    "                        [2, 1]])\n",
    "test(circulant([1,2,3]), [[1, 2, 3], \n",
    "                          [3, 1, 2], \n",
    "                          [2, 3, 1]])"
   ]
  },
  {
   "cell_type": "markdown",
   "metadata": {},
   "source": [
    "**F. Toeplitz**\n",
    "\n",
    "Матрица Тёплица - это квадратная матрица, у которой в которой на всех диагоналях, параллельных главной, стоят равные элементы:"
   ]
  },
  {
   "cell_type": "markdown",
   "metadata": {},
   "source": [
    "\\begin{bmatrix}\n",
    "a & b & c & d & e \\\\\n",
    "f & a & b & c & d \\\\\n",
    "g & f & a & b & c \\\\\n",
    "h & g & f & a & b \\\\\n",
    "i & h & g & f & a \n",
    "\\end{bmatrix}."
   ]
  },
  {
   "cell_type": "markdown",
   "metadata": {},
   "source": [
    "По заданному вектору $a_i$ где $-n < i <n$ сформируйте матрицу Тёплица вида"
   ]
  },
  {
   "cell_type": "markdown",
   "metadata": {},
   "source": [
    "\\begin{align}A = \\begin{bmatrix}\n",
    "  a_0 & a_{-1}   & a_{-2} & \\cdots & \\cdots & a_{-(n-1)} \\\\\n",
    "  a_1 & a_0      & a_{-1} & \\ddots &        & \\vdots \\\\\n",
    "  a_2 & a_1      & \\ddots & \\ddots & \\ddots & \\vdots \\\\ \n",
    " \\vdots & \\ddots & \\ddots & \\ddots & a_{-1} & a_{-2} \\\\\n",
    " \\vdots &        & \\ddots & a_1    & a_0    & a_{-1} \\\\\n",
    "a_{n-1} & \\cdots & \\cdots & a_2    & a_1    & a_0\n",
    "\\end{bmatrix}\n",
    "\\end{align}"
   ]
  },
  {
   "cell_type": "markdown",
   "metadata": {},
   "source": [
    "*Подсказка: и здесь есть простая математическая формула – одна для всех элементов.*"
   ]
  },
  {
   "cell_type": "code",
   "execution_count": 3,
   "metadata": {},
   "outputs": [
    {
     "name": "stdout",
     "output_type": "stream",
     "text": [
      " OK  Получено: [[1]] | Ожидалось: [[1]]\n",
      " OK  Получено: [[2, 1], [3, 2]] | Ожидалось: [[2, 1], [3, 2]]\n",
      " OK  Получено: [[3, 2, 1], [4, 3, 2], [5, 4, 3]] | Ожидалось: [[3, 2, 1], [4, 3, 2], [5, 4, 3]]\n"
     ]
    }
   ],
   "source": [
    "def toeplitz(a):\n",
    "    n = len(a)//2+1\n",
    "    return [[a[n - j + i - 1] for j in range(n)] for i in range(n)]\n",
    "\n",
    "test(toeplitz([1]), [[1]])\n",
    "test(toeplitz([1, 2, 3]), [[2, 1], \n",
    "                           [3, 2]])\n",
    "test(toeplitz([1, 2, 3, 4, 5]), [[3, 2, 1], \n",
    "                                 [4, 3, 2], \n",
    "                                 [5, 4, 3]])"
   ]
  },
  {
   "cell_type": "markdown",
   "metadata": {},
   "source": [
    "**G. calc_pi** \n",
    "\n",
    "Вычислите число π методом Монте-Карло: на квадрате с единичной стороной строится четверь  \n",
    "окружности единичного радиуса, затем последовательно кидаются n точек, со случайными,  \n",
    "равномерно распределёнными по площади квадрата, координатами. Количество точек, попавших  \n",
    "внутрь окружности, пропорционально числу π."
   ]
  },
  {
   "cell_type": "code",
   "execution_count": 4,
   "metadata": {},
   "outputs": [
    {
     "name": "stdout",
     "output_type": "stream",
     "text": [
      "3.12\n",
      "3.092\n",
      "3.136\n",
      "3.1367200000000004\n",
      "3.1436919999999997\n"
     ]
    }
   ],
   "source": [
    "from random import random    # random() генерирует случайное число в диапазоне [0, 1)\n",
    "\n",
    "def calc_pi(n):\n",
    "    return 4/n * sum([1 for i in range(n+1) if (random())**2 + (random())**2 < 1])\n",
    "\n",
    "print(calc_pi(100))\n",
    "print(calc_pi(1000))\n",
    "print(calc_pi(10000))\n",
    "print(calc_pi(100000))\n",
    "print(calc_pi(1000000))"
   ]
  },
  {
   "cell_type": "markdown",
   "metadata": {},
   "source": [
    "**H. total_words** \n",
    "\n",
    "Реализуйте функцию, подсчитывающую общее количество слов в файле. Файл может быть больше,  \n",
    "чем объём оперативной + виртуальной памяти, поэтому читать из него надо построчно. \n",
    "\n",
    "Для отладки можно использовать файлы [verse-cp1251.txt](http://python-nsu.bitbucket.io/verse-cp1251.txt) и\n",
    "[alice-clean.txt](http://python-nsu.bitbucket.io/alice-clean.txt).\n",
    "\n",
    "[Пояснение](https://docs.google.com/document/d/13tm_5HGGt57z9PLE9iyo0SKWXkWKcl7zLpJnB5l6SM0/edit) как работает split."
   ]
  },
  {
   "cell_type": "code",
   "execution_count": 5,
   "metadata": {},
   "outputs": [
    {
     "name": "stdout",
     "output_type": "stream",
     "text": [
      " OK  Получено: 19 | Ожидалось: 19\n",
      " OK  Получено: 26409 | Ожидалось: 26409\n"
     ]
    }
   ],
   "source": [
    "def total_words(filename):\n",
    "    with open(filename) as f:\n",
    "        return sum(len(line.split()) for line in f)\n",
    "\n",
    "test(total_words('verse-utf8.txt'), 19)\n",
    "test(total_words('alice-clean.txt'), 26409)"
   ]
  },
  {
   "cell_type": "code",
   "execution_count": 6,
   "metadata": {},
   "outputs": [
    {
     "data": {
      "text/plain": [
       "['a', 'b']"
      ]
     },
     "execution_count": 6,
     "metadata": {},
     "output_type": "execute_result"
    }
   ],
   "source": [
    "'  a  b  '.split()"
   ]
  },
  {
   "cell_type": "code",
   "execution_count": 7,
   "metadata": {},
   "outputs": [
    {
     "data": {
      "text/plain": [
       "['10', '20', '', '100']"
      ]
     },
     "execution_count": 7,
     "metadata": {},
     "output_type": "execute_result"
    }
   ],
   "source": [
    "'10,20,,100'.split(',')"
   ]
  },
  {
   "cell_type": "code",
   "execution_count": 8,
   "metadata": {},
   "outputs": [
    {
     "data": {
      "text/plain": [
       "['', '', 'a', '', 'b', '', '']"
      ]
     },
     "execution_count": 8,
     "metadata": {},
     "output_type": "execute_result"
    }
   ],
   "source": [
    "'  a  b  '.split(' ')"
   ]
  }
 ],
 "metadata": {
  "kernelspec": {
   "display_name": "Python 3 (ipykernel)",
   "language": "python",
   "name": "python3"
  },
  "language_info": {
   "codemirror_mode": {
    "name": "ipython",
    "version": 3
   },
   "file_extension": ".py",
   "mimetype": "text/x-python",
   "name": "python",
   "nbconvert_exporter": "python",
   "pygments_lexer": "ipython3",
   "version": "3.8.10"
  },
  "toc": {
   "base_numbering": 1,
   "nav_menu": {},
   "number_sections": true,
   "sideBar": true,
   "skip_h1_title": false,
   "title_cell": "Table of Contents",
   "title_sidebar": "Contents",
   "toc_cell": false,
   "toc_position": {},
   "toc_section_display": true,
   "toc_window_display": false
  },
  "varInspector": {
   "cols": {
    "lenName": 16,
    "lenType": 16,
    "lenVar": 40
   },
   "kernels_config": {
    "python": {
     "delete_cmd_postfix": "",
     "delete_cmd_prefix": "del ",
     "library": "var_list.py",
     "varRefreshCmd": "print(var_dic_list())"
    },
    "r": {
     "delete_cmd_postfix": ") ",
     "delete_cmd_prefix": "rm(",
     "library": "var_list.r",
     "varRefreshCmd": "cat(var_dic_list()) "
    }
   },
   "types_to_exclude": [
    "module",
    "function",
    "builtin_function_or_method",
    "instance",
    "_Feature"
   ],
   "window_display": false
  }
 },
 "nbformat": 4,
 "nbformat_minor": 4
}
