{
 "cells": [
  {
   "cell_type": "markdown",
   "metadata": {},
   "source": [
    "## Задание wordcount\n",
    "\n",
    "Задание состоит из двух логически связанных частей."
   ]
  },
  {
   "cell_type": "markdown",
   "metadata": {},
   "source": [
    "A. **print_words**\n",
    "\n",
    "Реализуйте функцию `print_words(filename)`, которая подсчитывала бы как часто слово встречается в тексте  \n",
    "из файла [alice.txt](https://python-nsu.bitbucket.io/alice.txt) и выводила бы результат на экран в виде:   \n",
    "\n",
    "    word1 count1  \n",
    "    word2 count2  \n",
    "    ...  \n",
    "\n",
    "При этом:\n",
    "- пунктуация должна быть удалена (если вы не знаете регулярных выражений, работайте с файлом [alice-clean.txt](https://python-nsu.bitbucket.io/alice-clean.txt));  \n",
    "- различия между заглавными и строчными делать не надо (There и there нужно считать одним словом);  \n",
    "- а между словоформами – надо (picture и pictures нужно считать разными словами);   \n",
    "- слова длиной менее 4 символов нужно игнорировать;  \n",
    "- слова нужно отсортировать в лексикографическом порядке (как в словаре) и вывести первые 10 из них."
   ]
  },
  {
   "cell_type": "markdown",
   "metadata": {},
   "source": [
    "B. **print_top**  \n",
    "\n",
    "Реализуйте функцию `print_top(filename)`, которая делала бы практически то же, что и `print_words(filename)`, но: \n",
    "- Выводила бы только 10 самых часто употребляемых в тексте слов, \n",
    "- Отсортированных в порядке убывания частотности (так, чтобы слово, которое чаще всего встречается  \n",
    "в тексте, шло бы первым, следующее по частоте - вторым и т.д.);\n",
    "- **Слова с одинаковой частотностью должны быть отсортированы по алфавиту.**\n",
    "\n",
    "<div style=\"max-width:630px;margin-top:8px\">Для обеспечения переиспользования кода \n",
    "(так проще отлаживать, поддерживать), выделите часть функционала, общую для двух функций,\n",
    "в отдельную функцию.</div>\n",
    "\n",
    "<div style=\"max-width:630px;margin-top:8px\">Не пишите всю программу сразу. Разбейте\n",
    "задачу на подзадачи и отлаживайте каждую по отдельности (выводите промежуточный результат \n",
    "на экран; когда вы добились того, что он соответствует вашим ожиданиям, переходите \n",
    "к следующей подзадаче).</div>\n",
    "\n",
    "<div style=\"max-width:630px;margin-top:8px\">Для отладки можно использовать файл <a href=\"https://python-nsu.bitbucket.io/verse-cp1251.txt\">verse-cp1251.txt</a> – это одно четверостишие на русском. Файл <a href=\"https://python-nsu.bitbucket.io/verse-utf8.txt\">verse-utf8.txt</a> – это то же самое, но в кодировке unicode (сейчас этот стандарт используется\n",
    "практически везде, только в windows по умолчанию всё ещё идёт устаревший cp1251).</div>"
   ]
  },
  {
   "cell_type": "code",
   "execution_count": 1,
   "metadata": {},
   "outputs": [],
   "source": [
    "from re import findall"
   ]
  },
  {
   "cell_type": "code",
   "execution_count": 2,
   "metadata": {},
   "outputs": [],
   "source": [
    "# Объявите функции print_words(filename), print_top(filename),\n",
    "# а также вспомогательную функцию count_words(filename), \n",
    "# использующуюся в обеих, которая принимала бы на вход имя файла \n",
    "# и возвращала бы dict, в котором в качестве ключей выступали бы \n",
    "# слова, а в качестве значений – количество раз, которое данное \n",
    "# слово встретилось в тексте.\n",
    "\n",
    "    \n",
    "def count_words(filename):\n",
    "    lines_list = []\n",
    "    with open(filename) as f:\n",
    "        for line in f:\n",
    "            lines_list.append(findall(r'\\w+', line.lower()))\n",
    "            \n",
    "        my_dict = {}\n",
    "        \n",
    "        for line in lines_list:\n",
    "            for word in line:\n",
    "                if len(word) < 4:\n",
    "                    continue\n",
    "                if word in my_dict:\n",
    "                    my_dict[word] = my_dict[word] + 1\n",
    "                else: \n",
    "                    my_dict[word] = 1\n",
    "                    \n",
    "        return my_dict\n",
    "           \n",
    "    \n",
    "\n",
    "def print_words(filename):\n",
    "    sorted_words_dict = sorted(count_words(filename).items())\n",
    "    for i in range(10):\n",
    "        print(sorted_words_dict[i][0], \":\" ,  sorted_words_dict[i][1])\n",
    "\n",
    "\n",
    "def print_top(filename):\n",
    "    words_dict = sorted(count_words(filename).items(), key=lambda x : (x[1] * (-1),x[0]))\n",
    "    for i in range(10):\n",
    "        print(words_dict[i][0], \":\" ,  words_dict[i][1])\n",
    "    \n"
   ]
  },
  {
   "cell_type": "code",
   "execution_count": 3,
   "metadata": {},
   "outputs": [
    {
     "name": "stdout",
     "output_type": "stream",
     "text": [
      "abide : 1\n",
      "able : 1\n",
      "about : 94\n",
      "above : 3\n",
      "absence : 1\n",
      "absurd : 2\n",
      "acceptance : 1\n",
      "accident : 2\n",
      "accidentally : 1\n",
      "account : 1\n"
     ]
    }
   ],
   "source": [
    "print_words('alice.txt')"
   ]
  },
  {
   "cell_type": "code",
   "execution_count": 4,
   "metadata": {},
   "outputs": [
    {
     "name": "stdout",
     "output_type": "stream",
     "text": [
      "said : 462\n",
      "alice : 399\n",
      "that : 315\n",
      "with : 180\n",
      "they : 152\n",
      "very : 144\n",
      "what : 141\n",
      "this : 134\n",
      "little : 128\n",
      "down : 102\n"
     ]
    }
   ],
   "source": [
    "print_top('alice.txt')"
   ]
  },
  {
   "cell_type": "markdown",
   "metadata": {},
   "source": [
    "© 2010 Google Inc.  \n",
    "Licensed under the Apache License, Version 2.0  \n",
    "http://www.apache.org/licenses/LICENSE-2.0  \n",
    "Google's Python Class  \n",
    "http://code.google.com/edu/languages/google-python-class/  \n",
    "Перевод, дополнения Максимов Л.В. © 2016-2021"
   ]
  }
 ],
 "metadata": {
  "kernelspec": {
   "display_name": "Python 3 (ipykernel)",
   "language": "python",
   "name": "python3"
  },
  "language_info": {
   "codemirror_mode": {
    "name": "ipython",
    "version": 3
   },
   "file_extension": ".py",
   "mimetype": "text/x-python",
   "name": "python",
   "nbconvert_exporter": "python",
   "pygments_lexer": "ipython3",
   "version": "3.8.10"
  },
  "toc": {
   "base_numbering": 1,
   "nav_menu": {},
   "number_sections": true,
   "sideBar": true,
   "skip_h1_title": false,
   "title_cell": "Table of Contents",
   "title_sidebar": "Contents",
   "toc_cell": false,
   "toc_position": {},
   "toc_section_display": true,
   "toc_window_display": false
  },
  "varInspector": {
   "cols": {
    "lenName": 16,
    "lenType": 16,
    "lenVar": 40
   },
   "kernels_config": {
    "python": {
     "delete_cmd_postfix": "",
     "delete_cmd_prefix": "del ",
     "library": "var_list.py",
     "varRefreshCmd": "print(var_dic_list())"
    },
    "r": {
     "delete_cmd_postfix": ") ",
     "delete_cmd_prefix": "rm(",
     "library": "var_list.r",
     "varRefreshCmd": "cat(var_dic_list()) "
    }
   },
   "types_to_exclude": [
    "module",
    "function",
    "builtin_function_or_method",
    "instance",
    "_Feature"
   ],
   "window_display": false
  }
 },
 "nbformat": 4,
 "nbformat_minor": 2
}
