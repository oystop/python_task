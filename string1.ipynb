{
 "cells": [
  {
   "cell_type": "markdown",
   "metadata": {},
   "source": [
    "Copyright 2010 Google Inc.  \n",
    "Licensed under the Apache License, Version 2.0  \n",
    "http://www.apache.org/licenses/LICENSE-2.0  \n",
    "Google's Python Class  \n",
    "http://code.google.com/edu/languages/google-python-class/  \n",
    "Перевод, дополнения Максимов Л.В. © 2016"
   ]
  },
  {
   "cell_type": "markdown",
   "metadata": {},
   "source": [
    "## Строки 1\n",
    " \n",
    "Функция `test` используется далее для сравнения того, что возвращает функция, с  \n",
    "тем, что она должна возвращать. Нажмите `Shift-Enter`, чтобы выполнить ячейку."
   ]
  },
  {
   "cell_type": "code",
   "execution_count": 1,
   "metadata": {},
   "outputs": [],
   "source": [
    "def test(got, expected):\n",
    "    if got == expected:\n",
    "        prefix = ' OK '\n",
    "    else:\n",
    "        prefix = '  X '\n",
    "    print('%s Получено: %s | Ожидалось: %s' % \n",
    "          (prefix, repr(got), repr(expected)))   "
   ]
  },
  {
   "cell_type": "markdown",
   "metadata": {},
   "source": [
    "<div style=\"max-width:630px;margin-top:8px\">Заполните код приведенных ниже функций. Каждая ячейка уже настроена для вызова функции с несколькими различными параметрами и выводит 'OK' в случае, если вызов функции корректен.</div>\n",
    "\n",
    "<div style=\"max-width:630px;margin-top:8px\">Изначально код каждой функции содержит только 'return' и является просто заготовкой для вашего кода.</div>\n",
    "  \n",
    "**A. Бананы**<div style=\"max-width:630px;margin-top:8px\">Дано количество бананов `n` (целое число). Нужно вернуть строку вида `'Количество бананов: <n>'`, где `n` – это количество, переданное в функцию как параметр. Однако, если количество составляет 10 и более, вместо количества нужно использовать слово 'много'.</div> \n",
    "Таким образом, `bananas(5)` вернет `'Количество бананов: 5'`, а `bananas(23)` – <br>\n",
    "`'Количество бананов: много'`"
   ]
  },
  {
   "cell_type": "code",
   "execution_count": 4,
   "metadata": {},
   "outputs": [
    {
     "name": "stdout",
     "output_type": "stream",
     "text": [
      " OK  Получено: 'Количество бананов: 4' | Ожидалось: 'Количество бананов: 4'\n",
      " OK  Получено: 'Количество бананов: 9' | Ожидалось: 'Количество бананов: 9'\n",
      " OK  Получено: 'Количество бананов: много' | Ожидалось: 'Количество бананов: много'\n",
      " OK  Получено: 'Количество бананов: много' | Ожидалось: 'Количество бананов: много'\n"
     ]
    }
   ],
   "source": [
    "def bananas(n):\n",
    "    if (n >= 10):\n",
    "        n = 'много'\n",
    "    return 'Количество бананов: ' + str(n)\n",
    "\n",
    "# Каждая строка вызывает bananas() и сравнивает возвращаемое \n",
    "# значение с ожидаемым.\n",
    "test(bananas(4), 'Количество бананов: 4')\n",
    "test(bananas(9), 'Количество бананов: 9')\n",
    "test(bananas(10), 'Количество бананов: много')\n",
    "test(bananas(99), 'Количество бананов: много')"
   ]
  },
  {
   "cell_type": "markdown",
   "metadata": {},
   "source": [
    "**B. Начало и конец**  \n",
    "<div style=\"max-width:630px;margin-top:8px\">Дана строка `s`. Верните строку, состоящую из первых 2 и последних 2 символов\n",
    "исходной строки. Таким образом, из строки `'spring'` получится `'spng'`.\n",
    "Если же длина строки меньше, чем 2, верните пустую строчку.</div>"
   ]
  },
  {
   "cell_type": "code",
   "execution_count": 5,
   "metadata": {},
   "outputs": [
    {
     "name": "stdout",
     "output_type": "stream",
     "text": [
      " OK  Получено: 'spng' | Ожидалось: 'spng'\n",
      " OK  Получено: 'Helo' | Ожидалось: 'Helo'\n",
      " OK  Получено: '' | Ожидалось: ''\n",
      " OK  Получено: 'xyyz' | Ожидалось: 'xyyz'\n"
     ]
    }
   ],
   "source": [
    "def both_ends(s):\n",
    "    if(len(s) < 2):\n",
    "        return ''\n",
    "    return s[:2] + s[-2:]\n",
    "\n",
    "test(both_ends('spring'), 'spng')\n",
    "test(both_ends('Hello'), 'Helo')\n",
    "test(both_ends('a'), '')\n",
    "test(both_ends('xyz'), 'xyyz')  "
   ]
  },
  {
   "cell_type": "markdown",
   "metadata": {},
   "source": [
    "**C. Кроме первого**  \n",
    "<div style=\"max-width:630px;margin-top:8px\">Дана строка s. Верните строку, в которой все вхождения ее первого символа заменены на '\\*', за исключением самого́ первого символа. Например, из `'babble'` должно получиться `'ba**le'`. Предполагается, что длина строки 1 и более.</div>\n",
    "<div style=\"max-width:630px;margin-top:8px\">\n",
    "Подсказка: `s.replace(stra, strb)` вернет версию строки, в которой все вхождения `stra` будут заменены на `strb`.</div>"
   ]
  },
  {
   "cell_type": "code",
   "execution_count": 8,
   "metadata": {},
   "outputs": [
    {
     "name": "stdout",
     "output_type": "stream",
     "text": [
      " OK  Получено: 'явл*юща*с*' | Ожидалось: 'явл*юща*с*'\n",
      " OK  Получено: 'об*юд**стр*е' | Ожидалось: 'об*юд**стр*е'\n",
      " OK  Получено: 'незако**орожде**ый' | Ожидалось: 'незако**орожде**ый'\n",
      " OK  Получено: 'инкв*з*ц**' | Ожидалось: 'инкв*з*ц**'\n"
     ]
    }
   ],
   "source": [
    "def fix_start(s):\n",
    "    \n",
    "    return s[0] + s[1:].replace(s[0], '*')\n",
    "\n",
    "test(fix_start('являющаяся'), 'явл*юща*с*')\n",
    "test(fix_start('обоюдоострое'), 'об*юд**стр*е')\n",
    "test(fix_start('незаконнорожденный'), 'незако**орожде**ый')\n",
    "test(fix_start('инквизиции'), 'инкв*з*ц**') "
   ]
  },
  {
   "cell_type": "markdown",
   "metadata": {},
   "source": [
    "**D. Перемешивание**\n",
    "\n",
    "<div style=\"max-width:630px;margin-top:8px\">Даны строки `a` и `b`. Верните одну строку, в которой `a` и `b` разделены пробелом, поменяв местами первые 2 символа каждой строки.</div>\n",
    "Например:  \n",
    "`    'mix', 'pod' -> 'pox mid'`  \n",
    "`    'dog', 'dinner' -> 'dig donner'`  \n",
    "Предполагается, что строки `a` и `b` имеют длину 2 и более символов."
   ]
  },
  {
   "cell_type": "code",
   "execution_count": 10,
   "metadata": {},
   "outputs": [
    {
     "name": "stdout",
     "output_type": "stream",
     "text": [
      " OK  Получено: 'не дат' | Ожидалось: 'не дат'\n",
      " OK  Получено: 'зерное чёркало' | Ожидалось: 'зерное чёркало'\n",
      " OK  Получено: 'парить купирус' | Ожидалось: 'парить купирус'\n",
      " OK  Получено: 'бораканский кар' | Ожидалось: 'бораканский кар'\n"
     ]
    }
   ],
   "source": [
    "def mix_up(a, b):    \n",
    "    \n",
    "    return b[:2] + a[2:] + ' ' + a[:2] + b[2:]\n",
    "\n",
    "test(mix_up('да', 'нет'), 'не дат')\n",
    "test(mix_up('чёрное', 'зеркало'), 'зерное чёркало')\n",
    "test(mix_up('курить', 'папирус'), 'парить купирус')\n",
    "test(mix_up('караканский', 'бор'), 'бораканский кар') "
   ]
  },
  {
   "cell_type": "code",
   "execution_count": null,
   "metadata": {
    "collapsed": true
   },
   "outputs": [],
   "source": []
  }
 ],
 "metadata": {
  "kernelspec": {
   "display_name": "Python 3 (ipykernel)",
   "language": "python",
   "name": "python3"
  },
  "language_info": {
   "codemirror_mode": {
    "name": "ipython",
    "version": 3
   },
   "file_extension": ".py",
   "mimetype": "text/x-python",
   "name": "python",
   "nbconvert_exporter": "python",
   "pygments_lexer": "ipython3",
   "version": "3.8.10"
  },
  "toc": {
   "base_numbering": 1,
   "nav_menu": {},
   "number_sections": true,
   "sideBar": true,
   "skip_h1_title": false,
   "title_cell": "Table of Contents",
   "title_sidebar": "Contents",
   "toc_cell": false,
   "toc_position": {},
   "toc_section_display": true,
   "toc_window_display": false
  },
  "varInspector": {
   "cols": {
    "lenName": 16,
    "lenType": 16,
    "lenVar": 40
   },
   "kernels_config": {
    "python": {
     "delete_cmd_postfix": "",
     "delete_cmd_prefix": "del ",
     "library": "var_list.py",
     "varRefreshCmd": "print(var_dic_list())"
    },
    "r": {
     "delete_cmd_postfix": ") ",
     "delete_cmd_prefix": "rm(",
     "library": "var_list.r",
     "varRefreshCmd": "cat(var_dic_list()) "
    }
   },
   "types_to_exclude": [
    "module",
    "function",
    "builtin_function_or_method",
    "instance",
    "_Feature"
   ],
   "window_display": false
  }
 },
 "nbformat": 4,
 "nbformat_minor": 2
}
