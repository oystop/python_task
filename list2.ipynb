{
 "cells": [
  {
   "cell_type": "markdown",
   "metadata": {},
   "source": [
    "## Дополнительные упражнения на списки"
   ]
  },
  {
   "cell_type": "code",
   "execution_count": 1,
   "metadata": {},
   "outputs": [],
   "source": [
    "def test(got, expected):\n",
    "    \"\"\"Функция test() используется далее для сравнения того,\n",
    "    что возвращает функция, с тем, что она должна возвращать.\n",
    "    \"\"\"\n",
    "    if got == expected:\n",
    "        prefix = ' OK '\n",
    "    else:\n",
    "        prefix = '  X '\n",
    "    print('%s got: %s expected: %s' % (prefix, repr(got), repr(expected)))"
   ]
  },
  {
   "cell_type": "code",
   "execution_count": 2,
   "metadata": {
    "code_folding": []
   },
   "outputs": [],
   "source": [
    "from math import inf"
   ]
  },
  {
   "cell_type": "markdown",
   "metadata": {
    "code_folding": []
   },
   "source": [
    "**E. Без повторов**\n",
    "\n",
    "Дан список произвольных элементов. Требуется построить список в котором удалены  \n",
    "идущие подряд одинаковые элементы (аналогично uniq в linux), например:  \n",
    "\n",
    "    [5, 1, 1, 5, 5] -> [5, 1, 5]\n",
    "\n",
    "Сделать это надо за линейное время, то есть без вложенных циклов – как явных (`for`/`while`), так и  \n",
    "неявных (см.скорость выполнения методов list в моих [методах базовых классов](https://docs.google.com/document/d/1sl7M8btPx3OaEOZnLo4d2KG5FhxFIpVHcUiXMT_obBk/edit#heading=h.a76diaht0wqm) или на [wiki.python.org](https://wiki.python.org/moin/TimeComplexity)).\n",
    "\n",
    "Исходный список должен остаться неизменным."
   ]
  },
  {
   "cell_type": "code",
   "execution_count": 3,
   "metadata": {
    "code_folding": []
   },
   "outputs": [
    {
     "name": "stdout",
     "output_type": "stream",
     "text": [
      " OK  got: [] expected: []\n",
      " OK  got: [1] expected: [1]\n",
      " OK  got: [1, 2, 1] expected: [1, 2, 1]\n",
      " OK  got: [None, []] expected: [None, []]\n",
      " OK  got: [7, 3, 1, 6, 7, 1] expected: [7, 3, 1, 6, 7, 1]\n",
      " OK  got: [-1, None, (), '', []] expected: [-1, None, (), '', []]\n",
      " OK  got: ['a', '.', ' ', 'c', 'a', 't', '!'] expected: ['a', '.', ' ', 'c', 'a', 't', '!']\n",
      " OK  got: ['у', 'р', 'а'] expected: ['у', 'р', 'а']\n"
     ]
    }
   ],
   "source": [
    "import itertools\n",
    "\n",
    "def remove_adjacent_old(nums):\n",
    "    return [a[0] for a in itertools.groupby(nums)]\n",
    "\n",
    "def remove_adjacent(nums):\n",
    "    if(len(nums) == 0): \n",
    "        return []\n",
    "    result = []\n",
    "    result.append(nums[0])\n",
    "    for i in range(1,len(nums)):\n",
    "        if(nums[i] != nums[i-1]):\n",
    "            result.append(nums[i])\n",
    "    return result\n",
    "\n",
    "\n",
    "test(remove_adjacent(''), [])\n",
    "test(remove_adjacent([1]), [1])\n",
    "test(remove_adjacent([1, 1, 1, 2, 1]), [1, 2, 1])\n",
    "test(remove_adjacent([None, None, []]), [None, []])\n",
    "test(remove_adjacent([7, 3, 3, 1, 1, 6, 7, 7, 1]), [7, 3, 1, 6, 7, 1])\n",
    "test(remove_adjacent([-1, -1, -1, None, None, (), '', '', [], [], []]),\n",
    "                     [-1, None, (), '', []])\n",
    "test(remove_adjacent('a...   caaaat!!!'), list('a. cat!'))\n",
    "test(remove_adjacent('уууууурррррааааааа'), list('ура'))"
   ]
  },
  {
   "cell_type": "markdown",
   "metadata": {},
   "source": [
    "Для списка из 3 миллионов элементов"
   ]
  },
  {
   "cell_type": "code",
   "execution_count": 4,
   "metadata": {},
   "outputs": [],
   "source": [
    "import random\n",
    "random.seed(100)\n",
    "a = []\n",
    "for i in range(10**5):\n",
    "    a.append(random.randint(0, 100))\n",
    "b = a*30"
   ]
  },
  {
   "cell_type": "markdown",
   "metadata": {},
   "source": [
    "надо уложиться в 1 секунду:"
   ]
  },
  {
   "cell_type": "code",
   "execution_count": 5,
   "metadata": {},
   "outputs": [
    {
     "name": "stdout",
     "output_type": "stream",
     "text": [
      "1.21 s ± 0 ns per loop (mean ± std. dev. of 1 run, 1 loop each)\n"
     ]
    }
   ],
   "source": [
    "%timeit -n1 -r1 c = remove_adjacent(b)"
   ]
  },
  {
   "cell_type": "markdown",
   "metadata": {
    "code_folding": []
   },
   "source": [
    "**F. Линейное объединение**\n",
    "\n",
    "Даны два отсортированных списка. Необходимо построить новый список, содержащий элементы  \n",
    "исходных в отсортированном порядке за линейное время, то есть за один проход как по исходным  \n",
    "спискам, так и по результирующему. Исходные списки должны остаться неизменными."
   ]
  },
  {
   "cell_type": "code",
   "execution_count": 6,
   "metadata": {
    "code_folding": []
   },
   "outputs": [
    {
     "name": "stdout",
     "output_type": "stream",
     "text": [
      " OK  got: [] expected: []\n",
      " OK  got: [1] expected: [1]\n",
      " OK  got: [1] expected: [1]\n",
      " OK  got: [1, 2, 5, 6, 8, 9] expected: [1, 2, 5, 6, 8, 9]\n",
      " OK  got: [1, 2, 5, 6, 8] expected: [1, 2, 5, 6, 8]\n",
      " OK  got: [1, 2, 5, 8, 9] expected: [1, 2, 5, 8, 9]\n",
      " OK  got: [-2, -1, 0, 8, inf] expected: [-2, -1, 0, 8, inf]\n",
      " OK  got: ['a', 'd', 'e', 'f', 'z'] expected: ['a', 'd', 'e', 'f', 'z']\n",
      " OK  got: ['a', 'b', 'd', 'e', 'f', 'z'] expected: ['a', 'b', 'd', 'e', 'f', 'z']\n",
      " OK  got: ['a', 'd', 'e', 'f', 'z'] expected: ['a', 'd', 'e', 'f', 'z']\n",
      " OK  got: [(), ((), ()), ((), (), ()), ((), (), (), (), ())] expected: [(), ((), ()), ((), (), ()), ((), (), (), (), ())]\n"
     ]
    }
   ],
   "source": [
    "def linear_merge(list1, list2):\n",
    "    result = []\n",
    "    len_list_1, len_list_2 = len(list1), len(list2)\n",
    "    if(len_list_1 == 0 and len_list_2 == 0):\n",
    "        return result\n",
    "    \n",
    "    if(len_list_1 == 0):\n",
    "        return list2\n",
    "    \n",
    "    if(len_list_2 == 0):\n",
    "        return list1\n",
    "    \n",
    "    i = 0\n",
    "    j = 0\n",
    "    while i < len_list_1 and j < len_list_2:\n",
    "        if list1[i] > list2[j]:\n",
    "            result.append(list2[j])\n",
    "            j += 1\n",
    "        else:\n",
    "            result.append(list1[i])\n",
    "            i += 1\n",
    "    if i != len_list_1:\n",
    "        return result + list1[i:]\n",
    "        \n",
    "    return result + list2[j:]\n",
    "\n",
    "test(linear_merge([], []), [])\n",
    "test(linear_merge([1], []), [1])\n",
    "test(linear_merge([], [1]), [1])\n",
    "test(linear_merge([1, 8, 9], [2, 5, 6]), [1, 2, 5, 6, 8, 9])\n",
    "test(linear_merge([1, 8], [2, 5, 6]), [1, 2, 5, 6, 8])\n",
    "test(linear_merge([1, 8, 9], [2, 5]), [1, 2, 5, 8, 9])\n",
    "test(linear_merge([-2, 0, inf], [-1, 8]), [-2, -1, 0, 8, inf])\n",
    "test(linear_merge(list('az'), list('def')), list('adefz'))\n",
    "test(linear_merge(list('abz'), list('def')), list('abdefz'))\n",
    "test(linear_merge(list('aez'), list('df')), list('adefz'))\n",
    "test(linear_merge([ (), ((),(),()) ],\n",
    "                  [ ((),()),  ((),)*5 ]),\n",
    "                  [ (), ((),()), ((),(),()), ((),)*5 ])"
   ]
  },
  {
   "cell_type": "markdown",
   "metadata": {},
   "source": [
    "Для двух списков по 150k элементов каждый"
   ]
  },
  {
   "cell_type": "code",
   "execution_count": 7,
   "metadata": {},
   "outputs": [
    {
     "name": "stdout",
     "output_type": "stream",
     "text": [
      " OK  got: True expected: True\n"
     ]
    }
   ],
   "source": [
    "a = list(range(0, 3*10**5, 2))\n",
    "b = list(range(1, 3*10**5, 2))\n",
    "c = linear_merge(a, b)\n",
    "test(sorted(c)==c, True)"
   ]
  },
  {
   "cell_type": "markdown",
   "metadata": {},
   "source": [
    "решение должно укладываться в 1 секунду"
   ]
  },
  {
   "cell_type": "code",
   "execution_count": 8,
   "metadata": {},
   "outputs": [
    {
     "name": "stdout",
     "output_type": "stream",
     "text": [
      "171 ms ± 0 ns per loop (mean ± std. dev. of 1 run, 1 loop each)\n"
     ]
    }
   ],
   "source": [
    "%timeit -n1 -r1 c=linear_merge(a, b)"
   ]
  },
  {
   "cell_type": "markdown",
   "metadata": {},
   "source": [
    "Надо заметить, что `sorted(a+b)` укладывается в этот лимит. Но здесь имеется в виду другое решение. \n",
    "\n",
    "Когда будем проходить numba, разгоним это другое решение до скорости большей, чем `sorted(a+b)`."
   ]
  }
 ],
 "metadata": {
  "kernelspec": {
   "display_name": "Python 3 (ipykernel)",
   "language": "python",
   "name": "python3"
  },
  "language_info": {
   "codemirror_mode": {
    "name": "ipython",
    "version": 3
   },
   "file_extension": ".py",
   "mimetype": "text/x-python",
   "name": "python",
   "nbconvert_exporter": "python",
   "pygments_lexer": "ipython3",
   "version": "3.8.10"
  },
  "toc": {
   "base_numbering": 1,
   "nav_menu": {},
   "number_sections": true,
   "sideBar": true,
   "skip_h1_title": false,
   "title_cell": "Table of Contents",
   "title_sidebar": "Contents",
   "toc_cell": false,
   "toc_position": {},
   "toc_section_display": true,
   "toc_window_display": false
  },
  "varInspector": {
   "cols": {
    "lenName": 16,
    "lenType": 16,
    "lenVar": 40
   },
   "kernels_config": {
    "python": {
     "delete_cmd_postfix": "",
     "delete_cmd_prefix": "del ",
     "library": "var_list.py",
     "varRefreshCmd": "print(var_dic_list())"
    },
    "r": {
     "delete_cmd_postfix": ") ",
     "delete_cmd_prefix": "rm(",
     "library": "var_list.r",
     "varRefreshCmd": "cat(var_dic_list()) "
    }
   },
   "types_to_exclude": [
    "module",
    "function",
    "builtin_function_or_method",
    "instance",
    "_Feature"
   ],
   "window_display": false
  }
 },
 "nbformat": 4,
 "nbformat_minor": 2
}
