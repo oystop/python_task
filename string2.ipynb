{
 "cells": [
  {
   "cell_type": "markdown",
   "metadata": {},
   "source": [
    "# **Cтроки 2**  \n",
    "\n",
    "Copyright 2010 Google Inc.  \n",
    "Licensed under the Apache License, Version 2.0  \n",
    "http://www.apache.org/licenses/LICENSE-2.0  \n",
    "Google's Python Class  \n",
    "http://code.google.com/edu/languages/google-python-class/  \n",
    "Перевод, дополнения Максимов Л.В. © 2016-2021  \n",
    "\n",
    "\n",
    "\n",
    "Функция `test()` используется ниже для сравнения того, что возвращает функция, с тем, что  \n",
    "она должна возвращать."
   ]
  },
  {
   "cell_type": "code",
   "execution_count": 1,
   "metadata": {},
   "outputs": [],
   "source": [
    "def test(got, expected):\n",
    "    if got == expected:\n",
    "        prefix = ' OK '\n",
    "    else:\n",
    "        prefix = '  X '\n",
    "    print('%s Получено: %s | Ожидалось: %s' % \n",
    "          (prefix, repr(got), repr(expected)))"
   ]
  },
  {
   "cell_type": "markdown",
   "metadata": {},
   "source": [
    "**E. Суффиксы**  \n",
    " Если длина строки на входе составляет 3 или более символов, добавьте к строке окончание `'ing'`,   \n",
    " если только она уже не заканчивается на `'ing'`, в случае чего добавьте к ней суффикс `'ly'`.  \n",
    " Если же длина входной строки менее трех символов, верните её в неизменном виде."
   ]
  },
  {
   "cell_type": "code",
   "execution_count": 2,
   "metadata": {},
   "outputs": [
    {
     "name": "stdout",
     "output_type": "stream",
     "text": [
      " OK  Получено: 'hailing' | Ожидалось: 'hailing'\n",
      " OK  Получено: 'swimingly' | Ожидалось: 'swimingly'\n",
      " OK  Получено: 'do' | Ожидалось: 'do'\n"
     ]
    }
   ],
   "source": [
    "def verbing(s):  \n",
    "    if(len(s) >= 3):\n",
    "        if(s[-3:] != 'ing'):\n",
    "            return s + 'ing'\n",
    "        else:\n",
    "            return s + 'ly'\n",
    "    return s\n",
    "\n",
    "test(verbing('hail'), 'hailing')\n",
    "test(verbing('swiming'), 'swimingly')\n",
    "test(verbing('do'), 'do')"
   ]
  },
  {
   "cell_type": "markdown",
   "metadata": {},
   "source": [
    "**F. Хорош**  \n",
    " Дана строка.  \n",
    " Найдите первое вхождение подстрок `'не'` и `'плох'`.  \n",
    " Если `'плох'` идет после `'не'`, замените всю подстроку `'не'...'плох'` на `'хорош'`.  \n",
    " Верните получившуюся строку.  \n",
    " Например, `'Этот ужин не так уж плох!'` вернет: `'Этот ужин хорош!'`"
   ]
  },
  {
   "cell_type": "code",
   "execution_count": 6,
   "metadata": {},
   "outputs": [
    {
     "name": "stdout",
     "output_type": "stream",
     "text": [
      " OK  Получено: 'Этот фильм хорош' | Ожидалось: 'Этот фильм хорош'\n",
      " OK  Получено: 'А ужин был хорош, весьма неплох!' | Ожидалось: 'А ужин был хорош, весьма неплох!'\n",
      " OK  Получено: 'Этот чай уже не горячий' | Ожидалось: 'Этот чай уже не горячий'\n",
      " OK  Получено: 'Этот плох, но не совсем' | Ожидалось: 'Этот плох, но не совсем'\n"
     ]
    }
   ],
   "source": [
    "def not_bad(s):\n",
    "    a = s.find('не')\n",
    "    b = s.find('плох')\n",
    "    if(a < b):\n",
    "        return s[:a] + 'хорош' + s[b+4:]\n",
    "    return s\n",
    "\n",
    "test(not_bad('Этот фильм не так уж плох'), 'Этот фильм хорош')\n",
    "test(not_bad('А ужин был неплох, весьма неплох!'), \n",
    "             'А ужин был хорош, весьма неплох!')\n",
    "test(not_bad('Этот чай уже не горячий'), 'Этот чай уже не горячий')\n",
    "test(not_bad('Этот плох, но не совсем'), 'Этот плох, но не совсем') "
   ]
  },
  {
   "cell_type": "markdown",
   "metadata": {},
   "source": [
    "**G. Две половины**  \n",
    "Определим следующий способ разделения строки на две половины:  \n",
    "Если длина четная - обе половины имеют одинаковую длину.  \n",
    "Если длина нечетная — дополнительный символ присоединяется к первой половине.  \n",
    "Таким образом, у строки `'abcde'` первая половина - `'abc'`, вторая - `'de'`.  \n",
    "Даны 2 строки: `a` и `b`, верните строку вида:  \n",
    "`1я-половина-a + 1я-половина-b + 2я-половина-a + 2я-половина-b`  "
   ]
  },
  {
   "cell_type": "code",
   "execution_count": 8,
   "metadata": {},
   "outputs": [
    {
     "data": {
      "text/plain": [
       "'C:\\\\Documents\\\\_lmaximov.bitbucket.io'"
      ]
     },
     "execution_count": 8,
     "metadata": {},
     "output_type": "execute_result"
    }
   ],
   "source": [
    "%pwd"
   ]
  },
  {
   "cell_type": "code",
   "execution_count": 13,
   "metadata": {},
   "outputs": [
    {
     "name": "stdout",
     "output_type": "stream",
     "text": [
      " OK  Получено: 'abxcdy' | Ожидалось: 'abxcdy'\n",
      " OK  Получено: 'абвЭЮгдеЯ' | Ожидалось: 'абвЭЮгдеЯ'\n",
      " OK  Получено: 'ДоКихнот' | Ожидалось: 'ДоКихнот'\n"
     ]
    }
   ],
   "source": [
    "import math\n",
    "\n",
    "def front_back(a, b):\n",
    "    \n",
    "    p_a = math.ceil(len(a)/2)\n",
    "    p_b = math.ceil(len(b)/2)\n",
    "    \n",
    "        \n",
    "    return a[:p_a] + b[:p_b] + a[p_a:] + b[p_b:]\n",
    "\n",
    "test(front_back('abcd', 'xy'), 'abxcdy')\n",
    "test(front_back('абвгде', 'ЭЮЯ'), 'абвЭЮгдеЯ')\n",
    "test(front_back('Дон', 'Кихот'), 'ДоКихнот')"
   ]
  },
  {
   "cell_type": "code",
   "execution_count": null,
   "metadata": {},
   "outputs": [],
   "source": []
  }
 ],
 "metadata": {
  "kernelspec": {
   "display_name": "Python 3 (ipykernel)",
   "language": "python",
   "name": "python3"
  },
  "language_info": {
   "codemirror_mode": {
    "name": "ipython",
    "version": 3
   },
   "file_extension": ".py",
   "mimetype": "text/x-python",
   "name": "python",
   "nbconvert_exporter": "python",
   "pygments_lexer": "ipython3",
   "version": "3.8.10"
  },
  "toc": {
   "base_numbering": 1,
   "nav_menu": {},
   "number_sections": true,
   "sideBar": true,
   "skip_h1_title": false,
   "title_cell": "Table of Contents",
   "title_sidebar": "Contents",
   "toc_cell": false,
   "toc_position": {},
   "toc_section_display": true,
   "toc_window_display": false
  },
  "varInspector": {
   "cols": {
    "lenName": 16,
    "lenType": 16,
    "lenVar": 40
   },
   "kernels_config": {
    "python": {
     "delete_cmd_postfix": "",
     "delete_cmd_prefix": "del ",
     "library": "var_list.py",
     "varRefreshCmd": "print(var_dic_list())"
    },
    "r": {
     "delete_cmd_postfix": ") ",
     "delete_cmd_prefix": "rm(",
     "library": "var_list.r",
     "varRefreshCmd": "cat(var_dic_list()) "
    }
   },
   "types_to_exclude": [
    "module",
    "function",
    "builtin_function_or_method",
    "instance",
    "_Feature"
   ],
   "window_display": false
  }
 },
 "nbformat": 4,
 "nbformat_minor": 2
}
