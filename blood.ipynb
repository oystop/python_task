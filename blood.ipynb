{
 "cells": [
  {
   "cell_type": "markdown",
   "metadata": {},
   "source": [
    "### Задание blood"
   ]
  },
  {
   "cell_type": "code",
   "execution_count": 1,
   "metadata": {},
   "outputs": [],
   "source": [
    "def test(got, expected):\n",
    "    prefix = ' OK ' if got == expected else '  X '\n",
    "    print(f'{prefix} Получено: {got} | Ожидалось: {expected}')"
   ]
  },
  {
   "cell_type": "code",
   "execution_count": 2,
   "metadata": {
    "code_folding": [
     0
    ]
   },
   "outputs": [
    {
     "data": {
      "text/html": [
       "<style>\n",
       "table{\n",
       "border-collapse: collapse;\n",
       "}\n",
       "td {\n",
       "border: 1px solid gray !important;\n",
       "width: 40px;\n",
       "text-align: center !important;\n",
       "}\n",
       "</style>\n"
      ],
      "text/plain": [
       "<IPython.core.display.HTML object>"
      ]
     },
     "metadata": {},
     "output_type": "display_data"
    }
   ],
   "source": [
    "%%html\n",
    "<style>\n",
    "table{\n",
    "border-collapse: collapse;\n",
    "}\n",
    "td {\n",
    "border: 1px solid gray !important;\n",
    "width: 40px;\n",
    "text-align: center !important;\n",
    "}\n",
    "</style>"
   ]
  },
  {
   "cell_type": "markdown",
   "metadata": {},
   "source": [
    "**A. types** \n",
    "\n",
    "Создайте словарь, который по номеру группы крови возвращал бы её название в соответствии с таблицей:\n",
    "<table>\n",
    "<tr><td>1</td><td>O</td>\n",
    "<tr><td>2</td><td>A</td>\n",
    "<tr><td>3</td><td>B</td>\n",
    "<tr><td>4</td><td>AB</td>\n",
    "</table>"
   ]
  },
  {
   "cell_type": "code",
   "execution_count": 3,
   "metadata": {},
   "outputs": [],
   "source": [
    "types = {1 : 'O', 2 : 'A', 3 : 'B', 4 : 'AB' }    # todo"
   ]
  },
  {
   "cell_type": "code",
   "execution_count": 4,
   "metadata": {},
   "outputs": [
    {
     "name": "stdout",
     "output_type": "stream",
     "text": [
      " OK  Получено: AB | Ожидалось: AB\n",
      " OK  Получено: O | Ожидалось: O\n"
     ]
    }
   ],
   "source": [
    "test(types[4], 'AB')\n",
    "test(types[1], 'O')"
   ]
  },
  {
   "cell_type": "markdown",
   "metadata": {},
   "source": [
    "**B. invert** \n",
    "\n",
    "Релизуйте функцию `invert`, которая бы обращала словарь так, чтобы в полученном словаре по значению можно было бы получить ключ.\n",
    "Уникальность значений в исходном словаре гарантируется.  \n",
    "\n",
    "Подсказка: здесь можно использовать dict comprehension (похож на list comprehension, только вместо квадратных скобок – фигурные)."
   ]
  },
  {
   "cell_type": "code",
   "execution_count": 5,
   "metadata": {},
   "outputs": [],
   "source": [
    "def invert(d):\n",
    "    return {w_type : num_type for num_type, w_type in d.items()}"
   ]
  },
  {
   "cell_type": "code",
   "execution_count": 6,
   "metadata": {},
   "outputs": [
    {
     "data": {
      "text/plain": [
       "{'O': 1, 'A': 2, 'B': 3, 'AB': 4}"
      ]
     },
     "execution_count": 6,
     "metadata": {},
     "output_type": "execute_result"
    }
   ],
   "source": [
    "inv_types = invert(types); inv_types"
   ]
  },
  {
   "cell_type": "code",
   "execution_count": 7,
   "metadata": {},
   "outputs": [
    {
     "name": "stdout",
     "output_type": "stream",
     "text": [
      " OK  Получено: 2 | Ожидалось: 2\n",
      " OK  Получено: 4 | Ожидалось: 4\n"
     ]
    }
   ],
   "source": [
    "test(inv_types['A'], 2)\n",
    "test(inv_types['AB'], 4)"
   ]
  },
  {
   "cell_type": "markdown",
   "metadata": {},
   "source": [
    "**C. better_invert** \n",
    "\n",
    "Дан словарь, где по имени человека можно было бы получить его группу крови:"
   ]
  },
  {
   "cell_type": "code",
   "execution_count": 8,
   "metadata": {},
   "outputs": [],
   "source": [
    "blood_type = {'Oliver': 4, 'Emma': 2, 'Amelia': 1, 'Lucas': 2}"
   ]
  },
  {
   "cell_type": "markdown",
   "metadata": {},
   "source": [
    "Реализуйте функцию `better_invert`, формирующую словарь, в котором по номеру группы крови можно было бы получить список имён людей с этой группой. \n",
    "\n",
    "*Подсказка: здесь лучше не использовать dict comprehension, но может пригодиться collections.defaultdict*"
   ]
  },
  {
   "cell_type": "code",
   "execution_count": 9,
   "metadata": {},
   "outputs": [],
   "source": [
    "from collections import defaultdict\n",
    "\n",
    "def better_invert(d):\n",
    "    new_dict = defaultdict(list)\n",
    "    for k, v in d.items():\n",
    "        new_dict[v].append(k)\n",
    "     \n",
    "    return new_dict"
   ]
  },
  {
   "cell_type": "code",
   "execution_count": 10,
   "metadata": {},
   "outputs": [
    {
     "data": {
      "text/plain": [
       "defaultdict(list, {4: ['Oliver'], 2: ['Emma', 'Lucas'], 1: ['Amelia']})"
      ]
     },
     "execution_count": 10,
     "metadata": {},
     "output_type": "execute_result"
    }
   ],
   "source": [
    "by_type = better_invert(blood_type); by_type"
   ]
  },
  {
   "cell_type": "code",
   "execution_count": 11,
   "metadata": {},
   "outputs": [
    {
     "name": "stdout",
     "output_type": "stream",
     "text": [
      " OK  Получено: ['Oliver'] | Ожидалось: ['Oliver']\n",
      " OK  Получено: {'Emma', 'Lucas'} | Ожидалось: {'Emma', 'Lucas'}\n"
     ]
    }
   ],
   "source": [
    "test(by_type[4], ['Oliver'])\n",
    "test(set(by_type[2]), set(['Lucas', 'Emma']))"
   ]
  },
  {
   "cell_type": "markdown",
   "metadata": {},
   "source": [
    "Реализация должна быть эффективной: такой тест должен исполняться не более 1 сек"
   ]
  },
  {
   "cell_type": "code",
   "execution_count": 12,
   "metadata": {},
   "outputs": [
    {
     "name": "stdout",
     "output_type": "stream",
     "text": [
      "51.7 ms ± 0 ns per loop (mean ± std. dev. of 1 run, 1 loop each)\n"
     ]
    }
   ],
   "source": [
    "from random import randint\n",
    "d = {}\n",
    "for i in range(10**5):\n",
    "    d[str(i)] = randint(0, 1000)\n",
    "\n",
    "%timeit -n1 -r1 z = better_invert(d)"
   ]
  },
  {
   "cell_type": "markdown",
   "metadata": {},
   "source": [
    "**D. count_by_type** \n",
    "\n",
    "Файл <a href=\"https://python-nsu.bitbucket.io/blood.csv\">blood.csv</a> имеет следующий формат: (пол, группа крови, резус-фактор, кол-во человек)\n",
    "\n",
    "    Male,B,Negative,4\n",
    "    Female,AB,Positive,2\n",
    "    ...\n",
    "    \n",
    "Первая строчка - заголовок."
   ]
  },
  {
   "cell_type": "markdown",
   "metadata": {},
   "source": [
    "Реализуйте функцию, которая бы считывала данные из этого файла и по номеру группы крови (используя выше определённый словарь `types` или `inv_types`) вычисляла бы какой процент людей (среди тех, у которых группа крови известна), обладают данной группой крови. "
   ]
  },
  {
   "cell_type": "code",
   "execution_count": 13,
   "metadata": {},
   "outputs": [],
   "source": [
    "def count_by_type(filename, n):\n",
    "    general_counter = 0\n",
    "    counter = 0\n",
    "    with open(filename) as f:\n",
    "        next(f)\n",
    "        for line in f:\n",
    "            if line.split(',')[1] != 'Unknown':\n",
    "                general_counter += int(list(line.split(','))[3])\n",
    "            if line.split(',')[1] == types[n]:\n",
    "                counter += int(list(line.split(','))[3])\n",
    "        \n",
    "    return 100*counter / general_counter"
   ]
  },
  {
   "cell_type": "code",
   "execution_count": 14,
   "metadata": {},
   "outputs": [
    {
     "data": {
      "text/plain": [
       "38.775510204081634"
      ]
     },
     "execution_count": 14,
     "metadata": {},
     "output_type": "execute_result"
    }
   ],
   "source": [
    "count_by_type('blood.csv', 1)"
   ]
  },
  {
   "cell_type": "code",
   "execution_count": 15,
   "metadata": {},
   "outputs": [
    {
     "name": "stdout",
     "output_type": "stream",
     "text": [
      " OK  Получено: 38.776 | Ожидалось: 38.776\n",
      " OK  Получено: 18.367 | Ожидалось: 18.367\n"
     ]
    }
   ],
   "source": [
    "test(round(count_by_type('blood.csv', 1), 3), 38.776)\n",
    "test(round(count_by_type('blood.csv', 3), 3), 18.367)"
   ]
  },
  {
   "cell_type": "markdown",
   "metadata": {},
   "source": [
    "Функция `count_by_type()` также должна быть реализована эффективно.  \n",
    "В файле [blood1.csv.zip](http://python-nsu.bitbucket.io/blood1.csv.zip) собрана репрезентативная выборка по популяции инопланетян.  \n",
    "У них 100 полов, 100 типов крови, 10 резус-факторов.  \n",
    "Тип крови и пол нумеруются от 0 до 99, резус-фактор от 0 до 9.\n",
    "\n",
    "На этих данных выполнение функции `count_by_type()` должно занимать не более секунды."
   ]
  },
  {
   "cell_type": "code",
   "execution_count": 16,
   "metadata": {},
   "outputs": [
    {
     "name": "stdout",
     "output_type": "stream",
     "text": [
      "236 ms ± 0 ns per loop (mean ± std. dev. of 1 run, 1 loop each)\n"
     ]
    }
   ],
   "source": [
    " %timeit -n1 -r1 count_by_type('blood1.csv', 3)"
   ]
  }
 ],
 "metadata": {
  "kernelspec": {
   "display_name": "Python 3 (ipykernel)",
   "language": "python",
   "name": "python3"
  },
  "language_info": {
   "codemirror_mode": {
    "name": "ipython",
    "version": 3
   },
   "file_extension": ".py",
   "mimetype": "text/x-python",
   "name": "python",
   "nbconvert_exporter": "python",
   "pygments_lexer": "ipython3",
   "version": "3.8.10"
  },
  "toc": {
   "base_numbering": 1,
   "nav_menu": {},
   "number_sections": true,
   "sideBar": true,
   "skip_h1_title": false,
   "title_cell": "Table of Contents",
   "title_sidebar": "Contents",
   "toc_cell": false,
   "toc_position": {},
   "toc_section_display": true,
   "toc_window_display": false
  },
  "varInspector": {
   "cols": {
    "lenName": 16,
    "lenType": 16,
    "lenVar": 40
   },
   "kernels_config": {
    "python": {
     "delete_cmd_postfix": "",
     "delete_cmd_prefix": "del ",
     "library": "var_list.py",
     "varRefreshCmd": "print(var_dic_list())"
    },
    "r": {
     "delete_cmd_postfix": ") ",
     "delete_cmd_prefix": "rm(",
     "library": "var_list.r",
     "varRefreshCmd": "cat(var_dic_list()) "
    }
   },
   "types_to_exclude": [
    "module",
    "function",
    "builtin_function_or_method",
    "instance",
    "_Feature"
   ],
   "window_display": false
  }
 },
 "nbformat": 4,
 "nbformat_minor": 2
}
